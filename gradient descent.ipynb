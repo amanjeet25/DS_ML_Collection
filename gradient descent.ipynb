{
 "cells": [
  {
   "cell_type": "markdown",
   "metadata": {},
   "source": [
    "# Gradient Descent algorithm for Linear Regression (from scratch)\n",
    " Gradient descent is an optimisation algorithm used to find the value of parameters (a0 ,a1 in this case)\n",
    "in order to minimise cost function.This notebook aims at building a gradient descent algorithm from scratch for single variate linear Regression."
   ]
  },
  {
   "cell_type": "code",
   "execution_count": 64,
   "metadata": {},
   "outputs": [],
   "source": [
    "#importing the required libraries\n",
    "import numpy as np\n",
    "import matplotlib.pyplot as plt\n",
    "%matplotlib inline\n",
    "import warnings \n",
    "warnings.filterwarnings('ignore')"
   ]
  },
  {
   "cell_type": "code",
   "execution_count": 65,
   "metadata": {},
   "outputs": [],
   "source": [
    "#creating the dataset\n",
    "X=np.array([2,4,5,6,10])\n",
    "Y=np.array([1.2,2.8,5.3,7.2,12])"
   ]
  },
  {
   "cell_type": "code",
   "execution_count": 66,
   "metadata": {},
   "outputs": [
    {
     "data": {
      "image/png": "[encoded data removed]",
      "text/plain": [
       "<Figure size 432x288 with 1 Axes>"
      ]
     },
     "metadata": {
      "needs_background": "light"
     },
     "output_type": "display_data"
    }
   ],
   "source": [
    "plt.scatter(X,Y)\n",
    "plt.show()"
   ]
  },
  {
   "cell_type": "code",
   "execution_count": 67,
   "metadata": {},
   "outputs": [],
   "source": [
    "#initialise the parameters\n",
    "a0=0        #intercept\n",
    "a1=1        #slope\n",
    "alpha=0.001  #learning rate\n",
    "itrs=1000   #no of iterations\n",
    "error=[]\n",
    "for itr in range (itrs):\n",
    "    cost_a0=0\n",
    "    cost_a1=0\n",
    "    cost_error=0\n",
    "    for i in range(len(X)):\n",
    "        Y_pred=(a0+a1*X[i]) #the predicted value on applying hypothesis\n",
    "        cost_error=cost_error+1/2*(Y_pred-Y[i])**2 #cost function \n",
    "        for j in range(len(X)):\n",
    "            pd_wrt_a0=((a0+a1*X[j])-Y[j])\n",
    "            pd_wrt_a1=((a0+a1*X[j])-Y[j])*X[j]\n",
    "            cost_a0=cost_a0+pd_wrt_a0  #final partial derivative term to update a0\n",
    "            cost_a1=cost_a1+pd_wrt_a1  #final partial derivative term to update a1\n",
    "            \n",
    "        a0=a0-alpha*cost_a0\n",
    "        a1=a1-alpha*cost_a1\n",
    "    error.append(cost_error)\n",
    "            \n",
    "    \n",
    "\n"
   ]
  },
  {
   "cell_type": "code",
   "execution_count": 68,
   "metadata": {},
   "outputs": [
    {
     "data": {
      "text/plain": [
       "-1.8784079653897316"
      ]
     },
     "execution_count": 68,
     "metadata": {},
     "output_type": "execute_result"
    }
   ],
   "source": [
    "a0"
   ]
  },
  {
   "cell_type": "code",
   "execution_count": 69,
   "metadata": {},
   "outputs": [
    {
     "data": {
      "text/plain": [
       "1.4034089221270394"
      ]
     },
     "execution_count": 69,
     "metadata": {},
     "output_type": "execute_result"
    }
   ],
   "source": [
    "a1"
   ]
  },
  {
   "cell_type": "code",
   "execution_count": 70,
   "metadata": {},
   "outputs": [],
   "source": [
    "#predicting the value\n",
    "Y_pred=a0+a1*X"
   ]
  },
  {
   "cell_type": "code",
   "execution_count": 71,
   "metadata": {},
   "outputs": [
    {
     "data": {
      "text/plain": [
       "[<matplotlib.lines.Line2D at 0x27db6706cc8>]"
      ]
     },
     "execution_count": 71,
     "metadata": {},
     "output_type": "execute_result"
    },
    {
     "data": {
      "image/png": "[encoded data removed]",
      "text/plain": [
       "<Figure size 432x288 with 1 Axes>"
      ]
     },
     "metadata": {
      "needs_background": "light"
     },
     "output_type": "display_data"
    }
   ],
   "source": [
    "#plotting the regression line\n",
    "plt.scatter(X,Y)\n",
    "plt.plot(X,Y_pred)"
   ]
  },
  {
   "cell_type": "code",
   "execution_count": null,
   "metadata": {},
   "outputs": [],
   "source": []
  }
 ],
 "metadata": {
  "kernelspec": {
   "display_name": "Python 3",
   "language": "python",
   "name": "python3"
  },
  "language_info": {
   "codemirror_mode": {
    "name": "ipython",
    "version": 3
   },
   "file_extension": ".py",
   "mimetype": "text/x-python",
   "name": "python",
   "nbconvert_exporter": "python",
   "pygments_lexer": "ipython3",
   "version": "3.7.6"
  }
 },
 "nbformat": 4,
 "nbformat_minor": 4
}
